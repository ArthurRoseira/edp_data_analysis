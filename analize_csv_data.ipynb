{
 "cells": [
  {
   "cell_type": "code",
   "execution_count": 1,
   "metadata": {},
   "outputs": [],
   "source": [
    "import pandas as pd\n",
    "import os\n",
    "from datetime import datetime\n",
    "import zipfile\n",
    "from pyspark.sql import SparkSession\n",
    "from pyspark.sql.functions import *\n",
    "from pyspark.sql.types import *\n",
    "from functools import reduce"
   ]
  },
  {
   "cell_type": "code",
   "execution_count": 2,
   "metadata": {},
   "outputs": [],
   "source": [
    "path =os.path.join(os.path.join(os.path.abspath('')),'Files')"
   ]
  },
  {
   "cell_type": "code",
   "execution_count": 3,
   "metadata": {},
   "outputs": [],
   "source": [
    "spark = SparkSession.builder.appName(\"edp_analysis\").master(\"local\").config(\"spark.driver.memory\", \"15g\").getOrCreate()"
   ]
  },
  {
   "attachments": {},
   "cell_type": "markdown",
   "metadata": {},
   "source": [
    "### Transforming Data into Parquet"
   ]
  },
  {
   "cell_type": "code",
   "execution_count": 7,
   "metadata": {},
   "outputs": [
    {
     "name": "stdout",
     "output_type": "stream",
     "text": [
      "EPD_202206.csv\n",
      "EPD_202207.csv\n",
      "EPD_202208.csv\n"
     ]
    }
   ],
   "source": [
    "for file in os.listdir(path):\n",
    "    print(file)\n",
    "    df = spark.read.option(\"header\", \"true\").csv(os.path.join(path,file))\n",
    "    file_name = os.path.join(path,file.split('.')[0]+'.parquet')\n",
    "    df.write.parquet(file_name)"
   ]
  },
  {
   "attachments": {},
   "cell_type": "markdown",
   "metadata": {},
   "source": [
    "### Read Parquet Files"
   ]
  },
  {
   "cell_type": "code",
   "execution_count": 4,
   "metadata": {},
   "outputs": [
    {
     "data": {
      "text/plain": [
       "['EPD_202206.parquet', 'EPD_202207.parquet', 'EPD_202208.parquet']"
      ]
     },
     "execution_count": 4,
     "metadata": {},
     "output_type": "execute_result"
    }
   ],
   "source": [
    "os.listdir(path)"
   ]
  },
  {
   "cell_type": "code",
   "execution_count": 5,
   "metadata": {},
   "outputs": [
    {
     "name": "stdout",
     "output_type": "stream",
     "text": [
      "(17603900, 26)\n",
      "(17603900, 26)\n",
      "(17603900, 26)\n",
      "(52811700, 26)\n"
     ]
    }
   ],
   "source": [
    "df_list = []\n",
    "for file in os.listdir(path):\n",
    "    df_ = spark.read.option(\"header\",\"true\").option(\"mergeSchema\", \"true\").load('C:\\\\Users\\\\Olist\\\\OneDrive\\\\Ambiente de Trabalho\\\\Projects\\\\interview\\\\Files\\\\EPD_202206.parquet')\n",
    "    print((df_.count(), len(df_.columns)))\n",
    "    df_list.append(df_)\n",
    "df = reduce(DataFrame.unionAll, df_list)\n",
    "print((df.count(), len(df.columns)))"
   ]
  },
  {
   "cell_type": "code",
   "execution_count": 6,
   "metadata": {},
   "outputs": [
    {
     "data": {
      "text/plain": [
       "['YEAR_MONTH',\n",
       " 'REGIONAL_OFFICE_NAME',\n",
       " 'REGIONAL_OFFICE_CODE',\n",
       " 'ICB_NAME',\n",
       " 'ICB_CODE',\n",
       " 'PCO_NAME',\n",
       " 'PCO_CODE',\n",
       " 'PRACTICE_NAME',\n",
       " 'PRACTICE_CODE',\n",
       " 'ADDRESS_1',\n",
       " 'ADDRESS_2',\n",
       " 'ADDRESS_3',\n",
       " 'ADDRESS_4',\n",
       " 'POSTCODE',\n",
       " 'BNF_CHEMICAL_SUBSTANCE',\n",
       " 'CHEMICAL_SUBSTANCE_BNF_DESCR',\n",
       " 'BNF_CODE',\n",
       " 'BNF_DESCRIPTION',\n",
       " 'BNF_CHAPTER_PLUS_CODE',\n",
       " 'QUANTITY',\n",
       " 'ITEMS',\n",
       " 'TOTAL_QUANTITY',\n",
       " 'ADQUSAGE',\n",
       " 'NIC',\n",
       " 'ACTUAL_COST',\n",
       " 'UNIDENTIFIED']"
      ]
     },
     "execution_count": 6,
     "metadata": {},
     "output_type": "execute_result"
    }
   ],
   "source": [
    "df.columns"
   ]
  },
  {
   "attachments": {},
   "cell_type": "markdown",
   "metadata": {},
   "source": [
    "### Creating DF for Prescribers and Prescriptions"
   ]
  },
  {
   "cell_type": "code",
   "execution_count": 7,
   "metadata": {},
   "outputs": [
    {
     "name": "stdout",
     "output_type": "stream",
     "text": [
      "(8927, 7)\n"
     ]
    }
   ],
   "source": [
    "prescribers = df.select(['PRACTICE_NAME',\n",
    " 'PRACTICE_CODE',\n",
    " 'ADDRESS_1',\n",
    " 'ADDRESS_2',\n",
    " 'ADDRESS_3',\n",
    " 'ADDRESS_4',\n",
    " 'POSTCODE']).dropDuplicates(['PRACTICE_CODE'])\n",
    "\n",
    "print((prescribers.count(), len(prescribers.columns)))"
   ]
  },
  {
   "cell_type": "code",
   "execution_count": 8,
   "metadata": {},
   "outputs": [],
   "source": [
    "file_name = os.path.join(path,'prescribers.parquet')\n",
    "prescribers.write.parquet(file_name)"
   ]
  },
  {
   "cell_type": "code",
   "execution_count": 9,
   "metadata": {},
   "outputs": [
    {
     "name": "stdout",
     "output_type": "stream",
     "text": [
      "(21968, 5)\n"
     ]
    }
   ],
   "source": [
    "prescriptions = df.select(['BNF_CHEMICAL_SUBSTANCE',\n",
    " 'CHEMICAL_SUBSTANCE_BNF_DESCR',\n",
    " 'BNF_CODE',\n",
    " 'BNF_DESCRIPTION',\n",
    " 'BNF_CHAPTER_PLUS_CODE'\n",
    "]).dropDuplicates(['BNF_CODE'])\n",
    "\n",
    "print((prescriptions.count(), len(prescriptions.columns)))\n",
    "file_name = os.path.join(path,'prescriptions.parquet')\n",
    "prescriptions.write.parquet(file_name)"
   ]
  },
  {
   "attachments": {},
   "cell_type": "markdown",
   "metadata": {},
   "source": [
    "### 10 Most Recurrent Prescribers"
   ]
  },
  {
   "cell_type": "code",
   "execution_count": 11,
   "metadata": {},
   "outputs": [
    {
     "name": "stdout",
     "output_type": "stream",
     "text": [
      "+--------------------+-------------+-----+\n",
      "|       PRACTICE_NAME|PRACTICE_CODE|count|\n",
      "+--------------------+-------------+-----+\n",
      "|MODALITY PARTNERS...|       B83033|35049|\n",
      "|MEDICUS HEALTH PA...|       F85002|30201|\n",
      "|MIDLANDS MEDICAL ...|       M85063|29946|\n",
      "|       SHORE MEDICAL|       J81012|25506|\n",
      "|PORTSDOWN GROUP P...|       J82155|24696|\n",
      "|MODALITY PARTNERS...|       B81048|24210|\n",
      "|   BAY MEDICAL GROUP|       Y01008|24135|\n",
      "|SUTTON COLDFIELD ...|       M85046|24084|\n",
      "|REGIS MEDICAL CENTRE|       M88004|24045|\n",
      "|HEATON MOOR MEDIC...|       P88026|23544|\n",
      "+--------------------+-------------+-----+\n",
      "only showing top 10 rows\n",
      "\n"
     ]
    }
   ],
   "source": [
    "df.groupBy(['PRACTICE_NAME',\n",
    " 'PRACTICE_CODE']).count().sort(desc('count')).show(10)"
   ]
  },
  {
   "attachments": {},
   "cell_type": "markdown",
   "metadata": {},
   "source": [
    "### Most Used Prescriptions in volume and Quantity"
   ]
  },
  {
   "cell_type": "code",
   "execution_count": 12,
   "metadata": {},
   "outputs": [
    {
     "name": "stdout",
     "output_type": "stream",
     "text": [
      "+---------------+----------------------+------------+-----------+\n",
      "|       BNF_CODE|BNF_CHEMICAL_SUBSTANCE|sum_quantity|total_items|\n",
      "+---------------+----------------------+------------+-----------+\n",
      "|090402000BBRRA0|             090402000|   2.96001E8|      37638|\n",
      "|090402000BBAJA0|             090402000|  2.501838E8|      34302|\n",
      "|090402000BBSIA0|             090402000|2.27826375E8|      41475|\n",
      "|090402000BBVTA0|             090402000|  1.993374E8|      35010|\n",
      "|090402000BBUBA0|             090402000|1.83060375E8|      33660|\n",
      "|090401000BBGFA0|             090401000|   1.27299E8|      19464|\n",
      "|090402000BBLLA0|             090402000|   9.61812E7|       4365|\n",
      "|090402000BBNTA0|             090402000|  9.594882E7|      12849|\n",
      "|090402000BBRZA0|             090402000| 8.6700798E7|       6513|\n",
      "|090402000BBVWA0|             090402000|   8.24634E7|      12489|\n",
      "+---------------+----------------------+------------+-----------+\n",
      "only showing top 10 rows\n",
      "\n"
     ]
    }
   ],
   "source": [
    "df.groupBy(['BNF_CODE','BNF_CHEMICAL_SUBSTANCE']).agg(sum('QUANTITY').alias(\"sum_quantity\"), \\\n",
    "         count(\"items\").alias(\"total_items\")).sort(desc('sum_quantity')).show(10)"
   ]
  },
  {
   "cell_type": "code",
   "execution_count": 13,
   "metadata": {},
   "outputs": [
    {
     "name": "stdout",
     "output_type": "stream",
     "text": [
      "+---------------+----------------------+------------+-----------+\n",
      "|       BNF_CODE|BNF_CHEMICAL_SUBSTANCE|sum_quantity|total_items|\n",
      "+---------------+----------------------+------------+-----------+\n",
      "|0408010G0AAABAB|             0408010G0| 2.9737434E7|     225804|\n",
      "|0603020T0AAACAC|             0603020T0| 1.3733571E7|     225042|\n",
      "|040702040AAAAAA|             040702040| 2.2018131E7|     215415|\n",
      "|0407010H0AAAMAM|             0407010H0| 2.8013712E7|     213042|\n",
      "|0901020G0AAAGAG|             0901020G0|   6137526.0|     177027|\n",
      "|0601022B0AAABAB|             0601022B0| 2.0288823E7|     175956|\n",
      "|0403030E0AAAAAA|             0403030E0| 1.0567467E7|     172305|\n",
      "|0401020K0AAAHAH|             0401020K0|   5408526.0|     171921|\n",
      "|0403010B0AAAGAG|             0403010B0| 1.2715602E7|     162612|\n",
      "|0407020C0AAAEAE|             0407020C0| 1.4909421E7|     147600|\n",
      "+---------------+----------------------+------------+-----------+\n",
      "only showing top 10 rows\n",
      "\n"
     ]
    }
   ],
   "source": [
    "df.groupBy(['BNF_CODE','BNF_CHEMICAL_SUBSTANCE']).agg(sum('QUANTITY').alias(\"sum_quantity\"), \\\n",
    "         count(\"items\").alias(\"total_items\")).sort(desc('total_items')).show(10)"
   ]
  },
  {
   "attachments": {},
   "cell_type": "markdown",
   "metadata": {},
   "source": [
    "#### Most Prescriptions By Month"
   ]
  },
  {
   "cell_type": "code",
   "execution_count": 14,
   "metadata": {},
   "outputs": [],
   "source": [
    "df.createOrReplaceTempView('edp_data')"
   ]
  },
  {
   "cell_type": "code",
   "execution_count": 24,
   "metadata": {},
   "outputs": [
    {
     "name": "stdout",
     "output_type": "stream",
     "text": [
      "+----------+----------------------------+--------------------+-------------+---+\n",
      "|YEAR_MONTH|CHEMICAL_SUBSTANCE_BNF_DESCR|       PRACTICE_NAME|PRESCRIPTIONS|rnk|\n",
      "+----------+----------------------------+--------------------+-------------+---+\n",
      "|    202206|        Wound Management ...|BCHC MEDICINES MA...|         3024|  1|\n",
      "|    202206|              Ileostomy Bags|MARSS NHS WIRRAL CCG|         2220|  1|\n",
      "|    202206|              Colostomy Bags|MARSS NHS WIRRAL CCG|         1902|  1|\n",
      "|    202206|              Colecalciferol|        PARK SURGERY|         1617|  1|\n",
      "|    202206|        Wound Management ...|NON MEDICAL PRESC...|         1569|  2|\n",
      "|    202206|        Wound Management ...|BLACKPOOL LOCALIT...|         1521|  3|\n",
      "|    202206|        Methadone hydroch...|DRUG AND ALCOHOL ...|         1425|  1|\n",
      "|    202206|        Wound Management ...|BURY COMMUNITY SE...|         1416|  4|\n",
      "|    202206|              Colecalciferol|TRINITY MEDICAL C...|         1392|  2|\n",
      "|    202206|        Wound Management ...|PRIMARY CARE PRES...|         1383|  5|\n",
      "|    202206|              Colecalciferol|   RIVERSIDE SURGERY|         1383|  3|\n",
      "|    202206|        Wound Management ...|WWL COMMUNITY NURSES|         1356|  6|\n",
      "|    202206|        Two Piece Ostomy ...|MARSS NHS WIRRAL CCG|         1314|  1|\n",
      "|    202206|        Two Piece Ostomy ...|NOTTS APPLIANCE M...|         1302|  2|\n",
      "|    202206|        Wound Management ...|   COMMUNITY NURSING|         1284|  7|\n",
      "|    202206|              Colecalciferol|     CENTRAL SURGERY|         1272|  4|\n",
      "|    202206|        Methadone hydroch...|      ST MARY'S GATE|         1245|  2|\n",
      "|    202206|              Colecalciferol|THE LIMES MEDICAL...|         1224|  5|\n",
      "|    202206|              Ileostomy Bags|NOTTS APPLIANCE M...|         1209|  2|\n",
      "|    202206|        Wound Management ...|WALSALL COMMUNITY...|         1209|  8|\n",
      "+----------+----------------------------+--------------------+-------------+---+\n",
      "only showing top 20 rows\n",
      "\n"
     ]
    }
   ],
   "source": [
    "spark.sql(''' \n",
    "    Select *\n",
    "    from(\n",
    "    select YEAR_MONTH,CHEMICAL_SUBSTANCE_BNF_DESCR, PRACTICE_NAME,COUNT(*) AS PRESCRIPTIONS, RANK() OVER ( PARTITION BY YEAR_MONTH,CHEMICAL_SUBSTANCE_BNF_DESCR ORDER BY COUNT(*) DESC) as rnk\n",
    "    from edp_data\n",
    "    group by 1, 2, 3\n",
    "    order by 4 desc)\n",
    "    where rnk <=10\n",
    "''').show()"
   ]
  }
 ],
 "metadata": {
  "kernelspec": {
   "display_name": "Python 3",
   "language": "python",
   "name": "python3"
  },
  "language_info": {
   "codemirror_mode": {
    "name": "ipython",
    "version": 3
   },
   "file_extension": ".py",
   "mimetype": "text/x-python",
   "name": "python",
   "nbconvert_exporter": "python",
   "pygments_lexer": "ipython3",
   "version": "3.9.2"
  },
  "orig_nbformat": 4,
  "vscode": {
   "interpreter": {
    "hash": "d94dd623ed3b60412e923742e7bd0b8a9d7db377f4fcacb3cc176f98d3cd8c58"
   }
  }
 },
 "nbformat": 4,
 "nbformat_minor": 2
}
